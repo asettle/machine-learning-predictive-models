{
 "cells": [
  {
   "cell_type": "code",
   "execution_count": 100,
   "metadata": {
    "collapsed": false,
    "pycharm": {
     "name": "#%%\n"
    }
   },
   "outputs": [],
   "source": [
    "import pandas as pd\n",
    "import numpy as np\n",
    "import matplotlib.pyplot as pl\n",
    "import seaborn as sns\n",
    "\n",
    "%matplotlib inline\n",
    "import statsmodels.api as sm"
   ]
  },
  {
   "cell_type": "code",
   "execution_count": 101,
   "metadata": {
    "collapsed": false,
    "pycharm": {
     "name": "#%%\n"
    }
   },
   "outputs": [],
   "source": [
    "#Helper method to properly parse the values in each column\n",
    "def make_float(text):\n",
    "    return float(text.replace('-', '0').replace('.', '').replace(',', '.').strip('\" '))"
   ]
  },
  {
   "cell_type": "code",
   "execution_count": 102,
   "metadata": {
    "collapsed": false,
    "pycharm": {
     "name": "#%%\n"
    }
   },
   "outputs": [
    {
     "name": "stdout",
     "output_type": "stream",
     "text": [
      "(366220, 32)\n"
     ]
    },
    {
     "data": {
      "text/plain": "   GridId              Toid  GRID_ExactCut_ID Location_ExactCut  \\\n0    6253  4000000027908919                24          External   \n1    6253  4000000027947931                24          External   \n2    6253  4000000028013383                24          External   \n3    6253  4000000028025820                24          External   \n4    6253  4000000028029388                24          External   \n\n  BoroughName_ExactCut    Lts  Length (m) Emissions  Year Pollutant  ...  \\\n0               NonGLA  18898        50.8       DFT  2013       CO2  ...   \n1               NonGLA  18895        28.6       DFT  2013       CO2  ...   \n2               NonGLA  15816         5.1       DFT  2013       CO2  ...   \n3               NonGLA  15816         3.8       DFT  2013       CO2  ...   \n4               NonGLA  15816         1.6       DFT  2013       CO2  ...   \n\n  Artic5Axle  Artic6Axle  PetrolCar  DieselCar  PetrolLgv  DieselLgv  LtBus  \\\n0      0.241       0.191      8.761      4.811      0.038      1.735    0.0   \n1      0.000       0.000      0.016      0.009      0.000      0.000    0.0   \n2      0.027       0.022      0.939      0.519      0.004      0.184    0.0   \n3      0.020       0.016      0.692      0.382      0.003      0.136    0.0   \n4      0.009       0.007      0.299      0.165      0.001      0.059    0.0   \n\n   Coach  ElectricCar  ElectricLgv  \n0    0.0          0.0          0.0  \n1    0.0          0.0          0.0  \n2    0.0          0.0          0.0  \n3    0.0          0.0          0.0  \n4    0.0          0.0          0.0  \n\n[5 rows x 32 columns]",
      "text/html": "<div>\n<style scoped>\n    .dataframe tbody tr th:only-of-type {\n        vertical-align: middle;\n    }\n\n    .dataframe tbody tr th {\n        vertical-align: top;\n    }\n\n    .dataframe thead th {\n        text-align: right;\n    }\n</style>\n<table border=\"1\" class=\"dataframe\">\n  <thead>\n    <tr style=\"text-align: right;\">\n      <th></th>\n      <th>GridId</th>\n      <th>Toid</th>\n      <th>GRID_ExactCut_ID</th>\n      <th>Location_ExactCut</th>\n      <th>BoroughName_ExactCut</th>\n      <th>Lts</th>\n      <th>Length (m)</th>\n      <th>Emissions</th>\n      <th>Year</th>\n      <th>Pollutant</th>\n      <th>...</th>\n      <th>Artic5Axle</th>\n      <th>Artic6Axle</th>\n      <th>PetrolCar</th>\n      <th>DieselCar</th>\n      <th>PetrolLgv</th>\n      <th>DieselLgv</th>\n      <th>LtBus</th>\n      <th>Coach</th>\n      <th>ElectricCar</th>\n      <th>ElectricLgv</th>\n    </tr>\n  </thead>\n  <tbody>\n    <tr>\n      <th>0</th>\n      <td>6253</td>\n      <td>4000000027908919</td>\n      <td>24</td>\n      <td>External</td>\n      <td>NonGLA</td>\n      <td>18898</td>\n      <td>50.8</td>\n      <td>DFT</td>\n      <td>2013</td>\n      <td>CO2</td>\n      <td>...</td>\n      <td>0.241</td>\n      <td>0.191</td>\n      <td>8.761</td>\n      <td>4.811</td>\n      <td>0.038</td>\n      <td>1.735</td>\n      <td>0.0</td>\n      <td>0.0</td>\n      <td>0.0</td>\n      <td>0.0</td>\n    </tr>\n    <tr>\n      <th>1</th>\n      <td>6253</td>\n      <td>4000000027947931</td>\n      <td>24</td>\n      <td>External</td>\n      <td>NonGLA</td>\n      <td>18895</td>\n      <td>28.6</td>\n      <td>DFT</td>\n      <td>2013</td>\n      <td>CO2</td>\n      <td>...</td>\n      <td>0.000</td>\n      <td>0.000</td>\n      <td>0.016</td>\n      <td>0.009</td>\n      <td>0.000</td>\n      <td>0.000</td>\n      <td>0.0</td>\n      <td>0.0</td>\n      <td>0.0</td>\n      <td>0.0</td>\n    </tr>\n    <tr>\n      <th>2</th>\n      <td>6253</td>\n      <td>4000000028013383</td>\n      <td>24</td>\n      <td>External</td>\n      <td>NonGLA</td>\n      <td>15816</td>\n      <td>5.1</td>\n      <td>DFT</td>\n      <td>2013</td>\n      <td>CO2</td>\n      <td>...</td>\n      <td>0.027</td>\n      <td>0.022</td>\n      <td>0.939</td>\n      <td>0.519</td>\n      <td>0.004</td>\n      <td>0.184</td>\n      <td>0.0</td>\n      <td>0.0</td>\n      <td>0.0</td>\n      <td>0.0</td>\n    </tr>\n    <tr>\n      <th>3</th>\n      <td>6253</td>\n      <td>4000000028025820</td>\n      <td>24</td>\n      <td>External</td>\n      <td>NonGLA</td>\n      <td>15816</td>\n      <td>3.8</td>\n      <td>DFT</td>\n      <td>2013</td>\n      <td>CO2</td>\n      <td>...</td>\n      <td>0.020</td>\n      <td>0.016</td>\n      <td>0.692</td>\n      <td>0.382</td>\n      <td>0.003</td>\n      <td>0.136</td>\n      <td>0.0</td>\n      <td>0.0</td>\n      <td>0.0</td>\n      <td>0.0</td>\n    </tr>\n    <tr>\n      <th>4</th>\n      <td>6253</td>\n      <td>4000000028029388</td>\n      <td>24</td>\n      <td>External</td>\n      <td>NonGLA</td>\n      <td>15816</td>\n      <td>1.6</td>\n      <td>DFT</td>\n      <td>2013</td>\n      <td>CO2</td>\n      <td>...</td>\n      <td>0.009</td>\n      <td>0.007</td>\n      <td>0.299</td>\n      <td>0.165</td>\n      <td>0.001</td>\n      <td>0.059</td>\n      <td>0.0</td>\n      <td>0.0</td>\n      <td>0.0</td>\n      <td>0.0</td>\n    </tr>\n  </tbody>\n</table>\n<p>5 rows × 32 columns</p>\n</div>"
     },
     "execution_count": 102,
     "metadata": {},
     "output_type": "execute_result"
    }
   ],
   "source": [
    "data = pd.read_csv(\"LAEI2013_MajorRoads_EmissionsbyLink_2013_LTS_Rds.csv\", sep=';', decimal=\",\",\n",
    "                    converters={\n",
    "                        'Artic6Axle' : make_float,\n",
    "                        'Coach' : make_float,\n",
    "                        'LtBus' : make_float,\n",
    "                        'DieselLgv' : make_float,\n",
    "                        'PetrolLgv' : make_float,\n",
    "                        'DieselCar' : make_float,\n",
    "                        'PetrolCar' : make_float,\n",
    "                        'Artic5Axle' : make_float,\n",
    "                        'Artic3Axle' : make_float,\n",
    "                        'Rigid4Axle' : make_float,\n",
    "                        'Rigid3Axle' : make_float,\n",
    "                        'Rigid2Axle' : make_float,\n",
    "                        'Artic' : make_float,\n",
    "                        'Rigid' : make_float,\n",
    "                        'BusAndCoach' : make_float,\n",
    "                        'Car' : make_float,\n",
    "                        'Lgv' : make_float,\n",
    "                        'Taxi' : make_float,\n",
    "                        'Motorcycle' : make_float,\n",
    "                        'ElectricCar' : make_float,\n",
    "                        'ElectricLgv' : make_float,\n",
    "                    })\n",
    "print(data.shape)\n",
    "data.head()"
   ]
  },
  {
   "cell_type": "code",
   "execution_count": 103,
   "metadata": {
    "collapsed": false,
    "pycharm": {
     "name": "#%%\n"
    }
   },
   "outputs": [
    {
     "data": {
      "text/plain": "               GridId          Toid  GRID_ExactCut_ID Location_ExactCut  \\\ncount   366220.000000  3.662200e+05     366220.000000            366220   \nunique            NaN           NaN               NaN                 4   \ntop               NaN           NaN               NaN             Outer   \nfreq              NaN           NaN               NaN            195620   \nmean     10015.480667  4.000000e+15       1820.920075               NaN   \nstd       1790.892387  4.205791e+05        942.371458               NaN   \nmin       5918.000000  4.000000e+15          7.000000               NaN   \n25%       8676.000000  4.000000e+15       1007.000000               NaN   \n50%       9871.000000  4.000000e+15       1814.000000               NaN   \n75%      11277.000000  4.000000e+15       2688.000000               NaN   \nmax      14540.000000  4.000000e+15       3355.000000               NaN   \n\n       BoroughName_ExactCut            Lts     Length (m) Emissions      Year  \\\ncount                366220  366220.000000  366220.000000    366220  366220.0   \nunique                   34            NaN            NaN         2       NaN   \ntop                  NonGLA            NaN            NaN    COPERT       NaN   \nfreq                  65380            NaN            NaN    329598       NaN   \nmean                    NaN    9983.574682      64.030886       NaN    2013.0   \nstd                     NaN    5076.029862      82.558449       NaN       0.0   \nmin                     NaN      18.000000       0.000000       NaN    2013.0   \n25%                     NaN    5786.000000      12.800000       NaN    2013.0   \n50%                     NaN   10494.000000      38.800000       NaN    2013.0   \n75%                     NaN   14256.000000      82.900000       NaN    2013.0   \nmax                     NaN   19317.000000    1275.100000       NaN    2013.0   \n\n       Pollutant  ...     Artic5Axle     Artic6Axle      PetrolCar  \\\ncount     366220  ...  366220.000000  366220.000000  366220.000000   \nunique        10  ...            NaN            NaN            NaN   \ntop          CO2  ...            NaN            NaN            NaN   \nfreq       36622  ...            NaN            NaN            NaN   \nmean         NaN  ...       0.068965       0.041184       1.654557   \nstd          NaN  ...       0.503252       0.312234      10.401979   \nmin          NaN  ...       0.000000       0.000000       0.000000   \n25%          NaN  ...       0.000000       0.000000       0.000000   \n50%          NaN  ...       0.000000       0.000000       0.000000   \n75%          NaN  ...       0.000000       0.000000       0.002000   \nmax          NaN  ...      70.263000      45.037000     795.253000   \n\n            DieselCar      PetrolLgv      DieselLgv          LtBus  \\\ncount   366220.000000  366220.000000  366220.000000  366220.000000   \nunique            NaN            NaN            NaN            NaN   \ntop               NaN            NaN            NaN            NaN   \nfreq              NaN            NaN            NaN            NaN   \nmean         0.889033       0.007509       0.341668       0.383019   \nstd          5.504355       0.047372       2.147972       3.087232   \nmin          0.000000       0.000000       0.000000       0.000000   \n25%          0.000000       0.000000       0.000000       0.000000   \n50%          0.000000       0.000000       0.000000       0.000000   \n75%          0.002000       0.000000       0.001000       0.000000   \nmax        393.555000       3.978000     177.378000     278.586000   \n\n                Coach  ElectricCar  ElectricLgv  \ncount   366220.000000     366220.0     366220.0  \nunique            NaN          NaN          NaN  \ntop               NaN          NaN          NaN  \nfreq              NaN          NaN          NaN  \nmean         0.096490          0.0          0.0  \nstd          1.779888          0.0          0.0  \nmin          0.000000          0.0          0.0  \n25%          0.000000          0.0          0.0  \n50%          0.000000          0.0          0.0  \n75%          0.000000          0.0          0.0  \nmax        385.386000          0.0          0.0  \n\n[11 rows x 32 columns]",
      "text/html": "<div>\n<style scoped>\n    .dataframe tbody tr th:only-of-type {\n        vertical-align: middle;\n    }\n\n    .dataframe tbody tr th {\n        vertical-align: top;\n    }\n\n    .dataframe thead th {\n        text-align: right;\n    }\n</style>\n<table border=\"1\" class=\"dataframe\">\n  <thead>\n    <tr style=\"text-align: right;\">\n      <th></th>\n      <th>GridId</th>\n      <th>Toid</th>\n      <th>GRID_ExactCut_ID</th>\n      <th>Location_ExactCut</th>\n      <th>BoroughName_ExactCut</th>\n      <th>Lts</th>\n      <th>Length (m)</th>\n      <th>Emissions</th>\n      <th>Year</th>\n      <th>Pollutant</th>\n      <th>...</th>\n      <th>Artic5Axle</th>\n      <th>Artic6Axle</th>\n      <th>PetrolCar</th>\n      <th>DieselCar</th>\n      <th>PetrolLgv</th>\n      <th>DieselLgv</th>\n      <th>LtBus</th>\n      <th>Coach</th>\n      <th>ElectricCar</th>\n      <th>ElectricLgv</th>\n    </tr>\n  </thead>\n  <tbody>\n    <tr>\n      <th>count</th>\n      <td>366220.000000</td>\n      <td>3.662200e+05</td>\n      <td>366220.000000</td>\n      <td>366220</td>\n      <td>366220</td>\n      <td>366220.000000</td>\n      <td>366220.000000</td>\n      <td>366220</td>\n      <td>366220.0</td>\n      <td>366220</td>\n      <td>...</td>\n      <td>366220.000000</td>\n      <td>366220.000000</td>\n      <td>366220.000000</td>\n      <td>366220.000000</td>\n      <td>366220.000000</td>\n      <td>366220.000000</td>\n      <td>366220.000000</td>\n      <td>366220.000000</td>\n      <td>366220.0</td>\n      <td>366220.0</td>\n    </tr>\n    <tr>\n      <th>unique</th>\n      <td>NaN</td>\n      <td>NaN</td>\n      <td>NaN</td>\n      <td>4</td>\n      <td>34</td>\n      <td>NaN</td>\n      <td>NaN</td>\n      <td>2</td>\n      <td>NaN</td>\n      <td>10</td>\n      <td>...</td>\n      <td>NaN</td>\n      <td>NaN</td>\n      <td>NaN</td>\n      <td>NaN</td>\n      <td>NaN</td>\n      <td>NaN</td>\n      <td>NaN</td>\n      <td>NaN</td>\n      <td>NaN</td>\n      <td>NaN</td>\n    </tr>\n    <tr>\n      <th>top</th>\n      <td>NaN</td>\n      <td>NaN</td>\n      <td>NaN</td>\n      <td>Outer</td>\n      <td>NonGLA</td>\n      <td>NaN</td>\n      <td>NaN</td>\n      <td>COPERT</td>\n      <td>NaN</td>\n      <td>CO2</td>\n      <td>...</td>\n      <td>NaN</td>\n      <td>NaN</td>\n      <td>NaN</td>\n      <td>NaN</td>\n      <td>NaN</td>\n      <td>NaN</td>\n      <td>NaN</td>\n      <td>NaN</td>\n      <td>NaN</td>\n      <td>NaN</td>\n    </tr>\n    <tr>\n      <th>freq</th>\n      <td>NaN</td>\n      <td>NaN</td>\n      <td>NaN</td>\n      <td>195620</td>\n      <td>65380</td>\n      <td>NaN</td>\n      <td>NaN</td>\n      <td>329598</td>\n      <td>NaN</td>\n      <td>36622</td>\n      <td>...</td>\n      <td>NaN</td>\n      <td>NaN</td>\n      <td>NaN</td>\n      <td>NaN</td>\n      <td>NaN</td>\n      <td>NaN</td>\n      <td>NaN</td>\n      <td>NaN</td>\n      <td>NaN</td>\n      <td>NaN</td>\n    </tr>\n    <tr>\n      <th>mean</th>\n      <td>10015.480667</td>\n      <td>4.000000e+15</td>\n      <td>1820.920075</td>\n      <td>NaN</td>\n      <td>NaN</td>\n      <td>9983.574682</td>\n      <td>64.030886</td>\n      <td>NaN</td>\n      <td>2013.0</td>\n      <td>NaN</td>\n      <td>...</td>\n      <td>0.068965</td>\n      <td>0.041184</td>\n      <td>1.654557</td>\n      <td>0.889033</td>\n      <td>0.007509</td>\n      <td>0.341668</td>\n      <td>0.383019</td>\n      <td>0.096490</td>\n      <td>0.0</td>\n      <td>0.0</td>\n    </tr>\n    <tr>\n      <th>std</th>\n      <td>1790.892387</td>\n      <td>4.205791e+05</td>\n      <td>942.371458</td>\n      <td>NaN</td>\n      <td>NaN</td>\n      <td>5076.029862</td>\n      <td>82.558449</td>\n      <td>NaN</td>\n      <td>0.0</td>\n      <td>NaN</td>\n      <td>...</td>\n      <td>0.503252</td>\n      <td>0.312234</td>\n      <td>10.401979</td>\n      <td>5.504355</td>\n      <td>0.047372</td>\n      <td>2.147972</td>\n      <td>3.087232</td>\n      <td>1.779888</td>\n      <td>0.0</td>\n      <td>0.0</td>\n    </tr>\n    <tr>\n      <th>min</th>\n      <td>5918.000000</td>\n      <td>4.000000e+15</td>\n      <td>7.000000</td>\n      <td>NaN</td>\n      <td>NaN</td>\n      <td>18.000000</td>\n      <td>0.000000</td>\n      <td>NaN</td>\n      <td>2013.0</td>\n      <td>NaN</td>\n      <td>...</td>\n      <td>0.000000</td>\n      <td>0.000000</td>\n      <td>0.000000</td>\n      <td>0.000000</td>\n      <td>0.000000</td>\n      <td>0.000000</td>\n      <td>0.000000</td>\n      <td>0.000000</td>\n      <td>0.0</td>\n      <td>0.0</td>\n    </tr>\n    <tr>\n      <th>25%</th>\n      <td>8676.000000</td>\n      <td>4.000000e+15</td>\n      <td>1007.000000</td>\n      <td>NaN</td>\n      <td>NaN</td>\n      <td>5786.000000</td>\n      <td>12.800000</td>\n      <td>NaN</td>\n      <td>2013.0</td>\n      <td>NaN</td>\n      <td>...</td>\n      <td>0.000000</td>\n      <td>0.000000</td>\n      <td>0.000000</td>\n      <td>0.000000</td>\n      <td>0.000000</td>\n      <td>0.000000</td>\n      <td>0.000000</td>\n      <td>0.000000</td>\n      <td>0.0</td>\n      <td>0.0</td>\n    </tr>\n    <tr>\n      <th>50%</th>\n      <td>9871.000000</td>\n      <td>4.000000e+15</td>\n      <td>1814.000000</td>\n      <td>NaN</td>\n      <td>NaN</td>\n      <td>10494.000000</td>\n      <td>38.800000</td>\n      <td>NaN</td>\n      <td>2013.0</td>\n      <td>NaN</td>\n      <td>...</td>\n      <td>0.000000</td>\n      <td>0.000000</td>\n      <td>0.000000</td>\n      <td>0.000000</td>\n      <td>0.000000</td>\n      <td>0.000000</td>\n      <td>0.000000</td>\n      <td>0.000000</td>\n      <td>0.0</td>\n      <td>0.0</td>\n    </tr>\n    <tr>\n      <th>75%</th>\n      <td>11277.000000</td>\n      <td>4.000000e+15</td>\n      <td>2688.000000</td>\n      <td>NaN</td>\n      <td>NaN</td>\n      <td>14256.000000</td>\n      <td>82.900000</td>\n      <td>NaN</td>\n      <td>2013.0</td>\n      <td>NaN</td>\n      <td>...</td>\n      <td>0.000000</td>\n      <td>0.000000</td>\n      <td>0.002000</td>\n      <td>0.002000</td>\n      <td>0.000000</td>\n      <td>0.001000</td>\n      <td>0.000000</td>\n      <td>0.000000</td>\n      <td>0.0</td>\n      <td>0.0</td>\n    </tr>\n    <tr>\n      <th>max</th>\n      <td>14540.000000</td>\n      <td>4.000000e+15</td>\n      <td>3355.000000</td>\n      <td>NaN</td>\n      <td>NaN</td>\n      <td>19317.000000</td>\n      <td>1275.100000</td>\n      <td>NaN</td>\n      <td>2013.0</td>\n      <td>NaN</td>\n      <td>...</td>\n      <td>70.263000</td>\n      <td>45.037000</td>\n      <td>795.253000</td>\n      <td>393.555000</td>\n      <td>3.978000</td>\n      <td>177.378000</td>\n      <td>278.586000</td>\n      <td>385.386000</td>\n      <td>0.0</td>\n      <td>0.0</td>\n    </tr>\n  </tbody>\n</table>\n<p>11 rows × 32 columns</p>\n</div>"
     },
     "execution_count": 103,
     "metadata": {},
     "output_type": "execute_result"
    }
   ],
   "source": [
    "data.describe(include='all')"
   ]
  },
  {
   "cell_type": "code",
   "execution_count": 104,
   "metadata": {
    "collapsed": false,
    "pycharm": {
     "name": "#%%\n"
    }
   },
   "outputs": [
    {
     "data": {
      "text/plain": "GridId                  0\nCoach                   0\nLtBus                   0\nDieselLgv               0\nPetrolLgv               0\nDieselCar               0\nPetrolCar               0\nArtic6Axle              0\nArtic5Axle              0\nArtic3Axle              0\nRigid4Axle              0\nRigid3Axle              0\nRigid2Axle              0\nArtic                   0\nRigid                   0\nLgv                     0\nBusAndCoach             0\nCar                     0\nTaxi                    0\nMotorcycle              0\nEmissions Unit          0\nPollutant               0\nYear                    0\nEmissions               0\nLength (m)              0\nLts                     0\nBoroughName_ExactCut    0\nLocation_ExactCut       0\nGRID_ExactCut_ID        0\nToid                    0\nElectricCar             0\nElectricLgv             0\ndtype: int64"
     },
     "execution_count": 104,
     "metadata": {},
     "output_type": "execute_result"
    }
   ],
   "source": [
    "#Check if there are any empty/missing values\n",
    "data.isnull().sum().sort_values(ascending=True)"
   ]
  },
  {
   "cell_type": "code",
   "execution_count": 105,
   "metadata": {
    "collapsed": false,
    "pycharm": {
     "name": "#%%\n"
    }
   },
   "outputs": [
    {
     "data": {
      "text/plain": "  BoroughName_ExactCut  Length (m) Pollutant  Motorcycle   Taxi     Car  \\\n0               NonGLA        50.8       CO2       0.158  0.375  13.572   \n1               NonGLA        28.6       CO2       0.000  0.000   0.024   \n2               NonGLA         5.1       CO2       0.017  0.040   1.458   \n3               NonGLA         3.8       CO2       0.013  0.029   1.074   \n4               NonGLA         1.6       CO2       0.005  0.013   0.464   \n\n   BusAndCoach    Lgv  Rigid  Artic  ...  Rigid4Axle  Artic3Axle  Artic5Axle  \\\n0          0.0  1.773  1.539  0.609  ...       0.315       0.177       0.241   \n1          0.0  0.000  0.000  0.000  ...       0.000       0.000       0.000   \n2          0.0  0.188  0.169  0.069  ...       0.035       0.020       0.027   \n3          0.0  0.139  0.125  0.051  ...       0.026       0.015       0.020   \n4          0.0  0.060  0.054  0.022  ...       0.011       0.006       0.009   \n\n   Artic6Axle  PetrolCar  DieselCar  PetrolLgv  DieselLgv  LtBus  Coach  \n0       0.191      8.761      4.811      0.038      1.735    0.0    0.0  \n1       0.000      0.016      0.009      0.000      0.000    0.0    0.0  \n2       0.022      0.939      0.519      0.004      0.184    0.0    0.0  \n3       0.016      0.692      0.382      0.003      0.136    0.0    0.0  \n4       0.007      0.299      0.165      0.001      0.059    0.0    0.0  \n\n[5 rows x 22 columns]",
      "text/html": "<div>\n<style scoped>\n    .dataframe tbody tr th:only-of-type {\n        vertical-align: middle;\n    }\n\n    .dataframe tbody tr th {\n        vertical-align: top;\n    }\n\n    .dataframe thead th {\n        text-align: right;\n    }\n</style>\n<table border=\"1\" class=\"dataframe\">\n  <thead>\n    <tr style=\"text-align: right;\">\n      <th></th>\n      <th>BoroughName_ExactCut</th>\n      <th>Length (m)</th>\n      <th>Pollutant</th>\n      <th>Motorcycle</th>\n      <th>Taxi</th>\n      <th>Car</th>\n      <th>BusAndCoach</th>\n      <th>Lgv</th>\n      <th>Rigid</th>\n      <th>Artic</th>\n      <th>...</th>\n      <th>Rigid4Axle</th>\n      <th>Artic3Axle</th>\n      <th>Artic5Axle</th>\n      <th>Artic6Axle</th>\n      <th>PetrolCar</th>\n      <th>DieselCar</th>\n      <th>PetrolLgv</th>\n      <th>DieselLgv</th>\n      <th>LtBus</th>\n      <th>Coach</th>\n    </tr>\n  </thead>\n  <tbody>\n    <tr>\n      <th>0</th>\n      <td>NonGLA</td>\n      <td>50.8</td>\n      <td>CO2</td>\n      <td>0.158</td>\n      <td>0.375</td>\n      <td>13.572</td>\n      <td>0.0</td>\n      <td>1.773</td>\n      <td>1.539</td>\n      <td>0.609</td>\n      <td>...</td>\n      <td>0.315</td>\n      <td>0.177</td>\n      <td>0.241</td>\n      <td>0.191</td>\n      <td>8.761</td>\n      <td>4.811</td>\n      <td>0.038</td>\n      <td>1.735</td>\n      <td>0.0</td>\n      <td>0.0</td>\n    </tr>\n    <tr>\n      <th>1</th>\n      <td>NonGLA</td>\n      <td>28.6</td>\n      <td>CO2</td>\n      <td>0.000</td>\n      <td>0.000</td>\n      <td>0.024</td>\n      <td>0.0</td>\n      <td>0.000</td>\n      <td>0.000</td>\n      <td>0.000</td>\n      <td>...</td>\n      <td>0.000</td>\n      <td>0.000</td>\n      <td>0.000</td>\n      <td>0.000</td>\n      <td>0.016</td>\n      <td>0.009</td>\n      <td>0.000</td>\n      <td>0.000</td>\n      <td>0.0</td>\n      <td>0.0</td>\n    </tr>\n    <tr>\n      <th>2</th>\n      <td>NonGLA</td>\n      <td>5.1</td>\n      <td>CO2</td>\n      <td>0.017</td>\n      <td>0.040</td>\n      <td>1.458</td>\n      <td>0.0</td>\n      <td>0.188</td>\n      <td>0.169</td>\n      <td>0.069</td>\n      <td>...</td>\n      <td>0.035</td>\n      <td>0.020</td>\n      <td>0.027</td>\n      <td>0.022</td>\n      <td>0.939</td>\n      <td>0.519</td>\n      <td>0.004</td>\n      <td>0.184</td>\n      <td>0.0</td>\n      <td>0.0</td>\n    </tr>\n    <tr>\n      <th>3</th>\n      <td>NonGLA</td>\n      <td>3.8</td>\n      <td>CO2</td>\n      <td>0.013</td>\n      <td>0.029</td>\n      <td>1.074</td>\n      <td>0.0</td>\n      <td>0.139</td>\n      <td>0.125</td>\n      <td>0.051</td>\n      <td>...</td>\n      <td>0.026</td>\n      <td>0.015</td>\n      <td>0.020</td>\n      <td>0.016</td>\n      <td>0.692</td>\n      <td>0.382</td>\n      <td>0.003</td>\n      <td>0.136</td>\n      <td>0.0</td>\n      <td>0.0</td>\n    </tr>\n    <tr>\n      <th>4</th>\n      <td>NonGLA</td>\n      <td>1.6</td>\n      <td>CO2</td>\n      <td>0.005</td>\n      <td>0.013</td>\n      <td>0.464</td>\n      <td>0.0</td>\n      <td>0.060</td>\n      <td>0.054</td>\n      <td>0.022</td>\n      <td>...</td>\n      <td>0.011</td>\n      <td>0.006</td>\n      <td>0.009</td>\n      <td>0.007</td>\n      <td>0.299</td>\n      <td>0.165</td>\n      <td>0.001</td>\n      <td>0.059</td>\n      <td>0.0</td>\n      <td>0.0</td>\n    </tr>\n  </tbody>\n</table>\n<p>5 rows × 22 columns</p>\n</div>"
     },
     "execution_count": 105,
     "metadata": {},
     "output_type": "execute_result"
    }
   ],
   "source": [
    "#Remove irrelevant columns\n",
    "del data['GridId']\n",
    "del data['Location_ExactCut']\n",
    "del data['Emissions Unit']\n",
    "del data['Toid']\n",
    "del data['Year']\n",
    "del data['GRID_ExactCut_ID']\n",
    "del data['Lts']\n",
    "del data['Emissions']\n",
    "del data['ElectricCar']\n",
    "del data['ElectricLgv']\n",
    "data.head()"
   ]
  },
  {
   "cell_type": "markdown",
   "metadata": {},
   "source": [
    "### Computing note\n",
    "\n",
    "- Motocycle = motocycle\n",
    "- Taxi = Taxi\n",
    "- Car = PetrolCar + DieselCar + ElectricCar\n",
    "- BusAndCoach = LtBus + Coach\n",
    "- Lgv = PetrolLgv + DieselLgv + ElectricLgv\n",
    "- Rigid = Ridid2Axle + Rigid3Axle + Rigid4Axle\n",
    "- Artic = Artic3Axle + Artic5Axle + Artic6Axle\n",
    "\n",
    "\n",
    "We can safely drop sub-computed columns"
   ]
  },
  {
   "cell_type": "code",
   "execution_count": 106,
   "metadata": {
    "collapsed": false,
    "pycharm": {
     "name": "#%%\n"
    }
   },
   "outputs": [
    {
     "data": {
      "text/plain": "  BoroughName_ExactCut  Length (m) Pollutant  Motorcycle   Taxi     Car  \\\n0               NonGLA        50.8       CO2       0.158  0.375  13.572   \n1               NonGLA        28.6       CO2       0.000  0.000   0.024   \n2               NonGLA         5.1       CO2       0.017  0.040   1.458   \n3               NonGLA         3.8       CO2       0.013  0.029   1.074   \n4               NonGLA         1.6       CO2       0.005  0.013   0.464   \n\n   BusAndCoach    Lgv    Hgv  TotalEmissions  \n0          0.0  1.773  2.148          18.026  \n1          0.0  0.000  0.000           0.024  \n2          0.0  0.188  0.238           1.941  \n3          0.0  0.139  0.176           1.431  \n4          0.0  0.060  0.076           0.618  ",
      "text/html": "<div>\n<style scoped>\n    .dataframe tbody tr th:only-of-type {\n        vertical-align: middle;\n    }\n\n    .dataframe tbody tr th {\n        vertical-align: top;\n    }\n\n    .dataframe thead th {\n        text-align: right;\n    }\n</style>\n<table border=\"1\" class=\"dataframe\">\n  <thead>\n    <tr style=\"text-align: right;\">\n      <th></th>\n      <th>BoroughName_ExactCut</th>\n      <th>Length (m)</th>\n      <th>Pollutant</th>\n      <th>Motorcycle</th>\n      <th>Taxi</th>\n      <th>Car</th>\n      <th>BusAndCoach</th>\n      <th>Lgv</th>\n      <th>Hgv</th>\n      <th>TotalEmissions</th>\n    </tr>\n  </thead>\n  <tbody>\n    <tr>\n      <th>0</th>\n      <td>NonGLA</td>\n      <td>50.8</td>\n      <td>CO2</td>\n      <td>0.158</td>\n      <td>0.375</td>\n      <td>13.572</td>\n      <td>0.0</td>\n      <td>1.773</td>\n      <td>2.148</td>\n      <td>18.026</td>\n    </tr>\n    <tr>\n      <th>1</th>\n      <td>NonGLA</td>\n      <td>28.6</td>\n      <td>CO2</td>\n      <td>0.000</td>\n      <td>0.000</td>\n      <td>0.024</td>\n      <td>0.0</td>\n      <td>0.000</td>\n      <td>0.000</td>\n      <td>0.024</td>\n    </tr>\n    <tr>\n      <th>2</th>\n      <td>NonGLA</td>\n      <td>5.1</td>\n      <td>CO2</td>\n      <td>0.017</td>\n      <td>0.040</td>\n      <td>1.458</td>\n      <td>0.0</td>\n      <td>0.188</td>\n      <td>0.238</td>\n      <td>1.941</td>\n    </tr>\n    <tr>\n      <th>3</th>\n      <td>NonGLA</td>\n      <td>3.8</td>\n      <td>CO2</td>\n      <td>0.013</td>\n      <td>0.029</td>\n      <td>1.074</td>\n      <td>0.0</td>\n      <td>0.139</td>\n      <td>0.176</td>\n      <td>1.431</td>\n    </tr>\n    <tr>\n      <th>4</th>\n      <td>NonGLA</td>\n      <td>1.6</td>\n      <td>CO2</td>\n      <td>0.005</td>\n      <td>0.013</td>\n      <td>0.464</td>\n      <td>0.0</td>\n      <td>0.060</td>\n      <td>0.076</td>\n      <td>0.618</td>\n    </tr>\n  </tbody>\n</table>\n</div>"
     },
     "execution_count": 106,
     "metadata": {},
     "output_type": "execute_result"
    }
   ],
   "source": [
    "#Heavy Goods Vehicle\n",
    "data['Hgv'] = data['Artic']+data['Rigid']\n",
    "#Create a column with the sum of all emissions\n",
    "data['TotalEmissions'] = data['Motorcycle']+data['Taxi']+data['Car']+data['BusAndCoach']+data['Lgv']+data['Hgv']\n",
    "del data['Artic']\n",
    "del data['Rigid']\n",
    "del data['Artic3Axle']\n",
    "del data['Artic5Axle']\n",
    "del data['Artic6Axle']\n",
    "del data['Rigid2Axle']\n",
    "del data['Rigid3Axle']\n",
    "del data['Rigid4Axle']\n",
    "del data['PetrolCar']\n",
    "del data['PetrolLgv']\n",
    "del data['DieselCar']\n",
    "del data['DieselLgv']\n",
    "del data['LtBus']\n",
    "del data['Coach']\n",
    "\n",
    "data.head()"
   ]
  },
  {
   "cell_type": "code",
   "execution_count": 107,
   "metadata": {
    "collapsed": false,
    "pycharm": {
     "name": "#%%\n"
    }
   },
   "outputs": [
    {
     "data": {
      "text/plain": "<AxesSubplot:>"
     },
     "execution_count": 107,
     "metadata": {},
     "output_type": "execute_result"
    },
    {
     "data": {
      "text/plain": "<Figure size 2160x1080 with 2 Axes>",
      "image/png": "[encoded data removed]"
     },
     "metadata": {
      "needs_background": "light"
     },
     "output_type": "display_data"
    }
   ],
   "source": [
    "#Correlation Matrix shows correlation between the total emissions and the type of vehicle\n",
    "f, ax = pl.subplots(figsize=(30, 15))\n",
    "correlation_matrix = data.corr()\n",
    "sns.heatmap(correlation_matrix, mask=np.zeros_like(correlation_matrix, dtype=bool), cmap=sns.diverging_palette(220, 10, as_cmap=True), square=True, ax=ax)\n"
   ]
  },
  {
   "cell_type": "code",
   "execution_count": 108,
   "metadata": {
    "collapsed": false,
    "pycharm": {
     "name": "#%%\n"
    }
   },
   "outputs": [
    {
     "data": {
      "text/plain": "  BoroughName_ExactCut  Length (m) Pollutant  TotalEmissions\n0               NonGLA        50.8       CO2          18.026\n1               NonGLA        28.6       CO2           0.024\n2               NonGLA         5.1       CO2           1.941\n3               NonGLA         3.8       CO2           1.431\n4               NonGLA         1.6       CO2           0.618",
      "text/html": "<div>\n<style scoped>\n    .dataframe tbody tr th:only-of-type {\n        vertical-align: middle;\n    }\n\n    .dataframe tbody tr th {\n        vertical-align: top;\n    }\n\n    .dataframe thead th {\n        text-align: right;\n    }\n</style>\n<table border=\"1\" class=\"dataframe\">\n  <thead>\n    <tr style=\"text-align: right;\">\n      <th></th>\n      <th>BoroughName_ExactCut</th>\n      <th>Length (m)</th>\n      <th>Pollutant</th>\n      <th>TotalEmissions</th>\n    </tr>\n  </thead>\n  <tbody>\n    <tr>\n      <th>0</th>\n      <td>NonGLA</td>\n      <td>50.8</td>\n      <td>CO2</td>\n      <td>18.026</td>\n    </tr>\n    <tr>\n      <th>1</th>\n      <td>NonGLA</td>\n      <td>28.6</td>\n      <td>CO2</td>\n      <td>0.024</td>\n    </tr>\n    <tr>\n      <th>2</th>\n      <td>NonGLA</td>\n      <td>5.1</td>\n      <td>CO2</td>\n      <td>1.941</td>\n    </tr>\n    <tr>\n      <th>3</th>\n      <td>NonGLA</td>\n      <td>3.8</td>\n      <td>CO2</td>\n      <td>1.431</td>\n    </tr>\n    <tr>\n      <th>4</th>\n      <td>NonGLA</td>\n      <td>1.6</td>\n      <td>CO2</td>\n      <td>0.618</td>\n    </tr>\n  </tbody>\n</table>\n</div>"
     },
     "execution_count": 108,
     "metadata": {},
     "output_type": "execute_result"
    }
   ],
   "source": [
    "#Following columns are no longer needed\n",
    "del data['Motorcycle']\n",
    "del data['Taxi']\n",
    "del data['Car']\n",
    "del data['BusAndCoach']\n",
    "del data['Lgv']\n",
    "del data['Hgv']\n",
    "data.head()"
   ]
  },
  {
   "cell_type": "code",
   "execution_count": 109,
   "metadata": {
    "collapsed": false,
    "pycharm": {
     "name": "#%%\n"
    }
   },
   "outputs": [
    {
     "data": {
      "text/plain": "Pollutant                      CO2      NOx  PM10_Brake  PM10_Exhaust  \\\nBoroughName_ExactCut                                                    \nBarking and Dagenham     17863.894   69.021       4.107         0.873   \nBarnet                   51820.786  188.588      11.935         2.325   \nBexley                   28277.950  104.125       6.522         1.385   \nBrent                    49577.515  176.248      10.758         2.295   \nBromley                  56506.094  191.871      13.685         2.851   \nCamden                   50839.221  174.764      10.074         2.788   \nCity                     12310.429   63.583       1.657         0.739   \nCity of Westminster      59037.680  205.892      10.979         3.881   \nCroydon                  58511.355  205.861      13.271         2.865   \nEaling                   64013.302  224.976      13.645         3.119   \nEnfield                  37531.454  129.490       8.677         1.680   \nGreenwich                26755.984  103.770       6.114         1.289   \nHackney                  27532.867  107.106       5.491         1.351   \nHammersmith and Fulham   11503.630   41.436       2.326         0.548   \nHaringey                 33609.241  126.224       7.457         1.680   \nHarrow                   35881.481  121.035       8.201         1.644   \nHavering                 53751.987  198.997      12.723         2.607   \nHillingdon               77470.122  287.822      18.227         4.111   \nHounslow                 36450.684  125.129       8.003         1.705   \nIslington                21062.805   80.958       4.147         1.050   \nKensington and Chelsea   20268.142   76.333       3.628         0.975   \nKingston                 24565.499   82.472       5.239         1.191   \nLambeth                  32292.937  115.019       6.822         1.545   \nLewisham                 40523.454  152.829       9.073         1.991   \nMerton                   36740.383  123.448       8.304         1.794   \nNewham                   13395.822   57.635       2.778         0.587   \nNonGLA                  270938.270  842.382      65.220        13.689   \nRedbridge                39791.212  134.518       9.522         1.950   \nRichmond                 35698.204  101.898       7.449         1.654   \nSouthwark                42184.499  153.262       9.004         2.058   \nSutton                   32166.051  112.795       7.772         1.619   \nTower Hamlets            23963.594   97.045       4.777         1.097   \nWaltham Forest           23454.670   86.020       5.451         1.161   \nWandsworth               34322.814  117.453       7.112         1.612   \n\nPollutant               PM10_Resusp  PM10_Tyre  PM25_Brake  PM25_Exhaust  \\\nBoroughName_ExactCut                                                       \nBarking and Dagenham          3.139      0.662       1.539         0.822   \nBarnet                        7.661      1.981       4.465         2.165   \nBexley                        4.478      1.099       2.439         1.279   \nBrent                         7.945      1.761       3.966         2.166   \nBromley                       8.019      2.474       5.122         2.668   \nCamden                        6.496      1.686       3.732         2.636   \nCity                          1.974      0.170       0.564         0.693   \nCity of Westminster           6.384      1.724       4.000         3.644   \nCroydon                       8.773      2.293       5.033         2.705   \nEaling                        9.274      2.272       5.156         2.934   \nEnfield                       4.931      1.502       3.164         1.581   \nGreenwich                     4.301      0.992       2.276         1.211   \nHackney                       4.186      0.831       2.007         1.267   \nHammersmith and Fulham        1.558      0.375       0.860         0.515   \nHaringey                      5.060      1.241       2.794         1.590   \nHarrow                        4.527      1.416       3.055         1.541   \nHavering                      9.867      2.132       4.794         2.465   \nHillingdon                   13.558      3.249       6.903         3.892   \nHounslow                      5.242      1.326       3.002         1.597   \nIslington                     2.980      0.606       1.461         0.989   \nKensington and Chelsea        2.605      0.526       1.290         0.932   \nKingston                      3.135      0.916       1.979         1.128   \nLambeth                       4.620      1.102       2.464         1.438   \nLewisham                      6.454      1.501       3.411         1.857   \nMerton                        4.835      1.444       3.129         1.690   \nNewham                        2.858      0.379       1.028         0.558   \nNonGLA                       38.068     12.385      24.603        12.905   \nRedbridge                     5.708      1.685       3.543         1.851   \nRichmond                      3.853      1.362       2.833         1.560   \nSouthwark                     6.424      1.430       3.335         1.934   \nSutton                        4.885      1.400       2.965         1.526   \nTower Hamlets                 4.098      0.680       1.713         1.022   \nWaltham Forest                3.362      0.932       2.053         1.097   \nWandsworth                    4.458      1.164       2.632         1.522   \n\nPollutant               PM25_Resusp  PM25_Tyre  \nBoroughName_ExactCut                            \nBarking and Dagenham          0.027      0.432  \nBarnet                        0.059      1.285  \nBexley                        0.025      0.715  \nBrent                         0.090      1.118  \nBromley                       0.063      1.639  \nCamden                        0.059      1.077  \nCity                          0.029      0.084  \nCity of Westminster           0.045      1.072  \nCroydon                       0.097      1.527  \nEaling                        0.092      1.496  \nEnfield                       0.030      0.989  \nGreenwich                     0.042      0.647  \nHackney                       0.033      0.545  \nHammersmith and Fulham        0.006      0.232  \nHaringey                      0.045      0.803  \nHarrow                        0.030      0.927  \nHavering                      0.101      1.392  \nHillingdon                    0.231      2.157  \nHounslow                      0.037      0.865  \nIslington                     0.025      0.371  \nKensington and Chelsea        0.020      0.329  \nKingston                      0.037      0.599  \nLambeth                       0.033      0.700  \nLewisham                      0.059      0.978  \nMerton                        0.026      0.932  \nNewham                        0.031      0.242  \nNonGLA                        0.476      8.231  \nRedbridge                     0.046      1.087  \nRichmond                      0.045      0.913  \nSouthwark                     0.049      0.897  \nSutton                        0.051      0.906  \nTower Hamlets                 0.021      0.405  \nWaltham Forest                0.022      0.595  \nWandsworth                    0.033      0.776  ",
      "text/html": "<div>\n<style scoped>\n    .dataframe tbody tr th:only-of-type {\n        vertical-align: middle;\n    }\n\n    .dataframe tbody tr th {\n        vertical-align: top;\n    }\n\n    .dataframe thead th {\n        text-align: right;\n    }\n</style>\n<table border=\"1\" class=\"dataframe\">\n  <thead>\n    <tr style=\"text-align: right;\">\n      <th>Pollutant</th>\n      <th>CO2</th>\n      <th>NOx</th>\n      <th>PM10_Brake</th>\n      <th>PM10_Exhaust</th>\n      <th>PM10_Resusp</th>\n      <th>PM10_Tyre</th>\n      <th>PM25_Brake</th>\n      <th>PM25_Exhaust</th>\n      <th>PM25_Resusp</th>\n      <th>PM25_Tyre</th>\n    </tr>\n    <tr>\n      <th>BoroughName_ExactCut</th>\n      <th></th>\n      <th></th>\n      <th></th>\n      <th></th>\n      <th></th>\n      <th></th>\n      <th></th>\n      <th></th>\n      <th></th>\n      <th></th>\n    </tr>\n  </thead>\n  <tbody>\n    <tr>\n      <th>Barking and Dagenham</th>\n      <td>17863.894</td>\n      <td>69.021</td>\n      <td>4.107</td>\n      <td>0.873</td>\n      <td>3.139</td>\n      <td>0.662</td>\n      <td>1.539</td>\n      <td>0.822</td>\n      <td>0.027</td>\n      <td>0.432</td>\n    </tr>\n    <tr>\n      <th>Barnet</th>\n      <td>51820.786</td>\n      <td>188.588</td>\n      <td>11.935</td>\n      <td>2.325</td>\n      <td>7.661</td>\n      <td>1.981</td>\n      <td>4.465</td>\n      <td>2.165</td>\n      <td>0.059</td>\n      <td>1.285</td>\n    </tr>\n    <tr>\n      <th>Bexley</th>\n      <td>28277.950</td>\n      <td>104.125</td>\n      <td>6.522</td>\n      <td>1.385</td>\n      <td>4.478</td>\n      <td>1.099</td>\n      <td>2.439</td>\n      <td>1.279</td>\n      <td>0.025</td>\n      <td>0.715</td>\n    </tr>\n    <tr>\n      <th>Brent</th>\n      <td>49577.515</td>\n      <td>176.248</td>\n      <td>10.758</td>\n      <td>2.295</td>\n      <td>7.945</td>\n      <td>1.761</td>\n      <td>3.966</td>\n      <td>2.166</td>\n      <td>0.090</td>\n      <td>1.118</td>\n    </tr>\n    <tr>\n      <th>Bromley</th>\n      <td>56506.094</td>\n      <td>191.871</td>\n      <td>13.685</td>\n      <td>2.851</td>\n      <td>8.019</td>\n      <td>2.474</td>\n      <td>5.122</td>\n      <td>2.668</td>\n      <td>0.063</td>\n      <td>1.639</td>\n    </tr>\n    <tr>\n      <th>Camden</th>\n      <td>50839.221</td>\n      <td>174.764</td>\n      <td>10.074</td>\n      <td>2.788</td>\n      <td>6.496</td>\n      <td>1.686</td>\n      <td>3.732</td>\n      <td>2.636</td>\n      <td>0.059</td>\n      <td>1.077</td>\n    </tr>\n    <tr>\n      <th>City</th>\n      <td>12310.429</td>\n      <td>63.583</td>\n      <td>1.657</td>\n      <td>0.739</td>\n      <td>1.974</td>\n      <td>0.170</td>\n      <td>0.564</td>\n      <td>0.693</td>\n      <td>0.029</td>\n      <td>0.084</td>\n    </tr>\n    <tr>\n      <th>City of Westminster</th>\n      <td>59037.680</td>\n      <td>205.892</td>\n      <td>10.979</td>\n      <td>3.881</td>\n      <td>6.384</td>\n      <td>1.724</td>\n      <td>4.000</td>\n      <td>3.644</td>\n      <td>0.045</td>\n      <td>1.072</td>\n    </tr>\n    <tr>\n      <th>Croydon</th>\n      <td>58511.355</td>\n      <td>205.861</td>\n      <td>13.271</td>\n      <td>2.865</td>\n      <td>8.773</td>\n      <td>2.293</td>\n      <td>5.033</td>\n      <td>2.705</td>\n      <td>0.097</td>\n      <td>1.527</td>\n    </tr>\n    <tr>\n      <th>Ealing</th>\n      <td>64013.302</td>\n      <td>224.976</td>\n      <td>13.645</td>\n      <td>3.119</td>\n      <td>9.274</td>\n      <td>2.272</td>\n      <td>5.156</td>\n      <td>2.934</td>\n      <td>0.092</td>\n      <td>1.496</td>\n    </tr>\n    <tr>\n      <th>Enfield</th>\n      <td>37531.454</td>\n      <td>129.490</td>\n      <td>8.677</td>\n      <td>1.680</td>\n      <td>4.931</td>\n      <td>1.502</td>\n      <td>3.164</td>\n      <td>1.581</td>\n      <td>0.030</td>\n      <td>0.989</td>\n    </tr>\n    <tr>\n      <th>Greenwich</th>\n      <td>26755.984</td>\n      <td>103.770</td>\n      <td>6.114</td>\n      <td>1.289</td>\n      <td>4.301</td>\n      <td>0.992</td>\n      <td>2.276</td>\n      <td>1.211</td>\n      <td>0.042</td>\n      <td>0.647</td>\n    </tr>\n    <tr>\n      <th>Hackney</th>\n      <td>27532.867</td>\n      <td>107.106</td>\n      <td>5.491</td>\n      <td>1.351</td>\n      <td>4.186</td>\n      <td>0.831</td>\n      <td>2.007</td>\n      <td>1.267</td>\n      <td>0.033</td>\n      <td>0.545</td>\n    </tr>\n    <tr>\n      <th>Hammersmith and Fulham</th>\n      <td>11503.630</td>\n      <td>41.436</td>\n      <td>2.326</td>\n      <td>0.548</td>\n      <td>1.558</td>\n      <td>0.375</td>\n      <td>0.860</td>\n      <td>0.515</td>\n      <td>0.006</td>\n      <td>0.232</td>\n    </tr>\n    <tr>\n      <th>Haringey</th>\n      <td>33609.241</td>\n      <td>126.224</td>\n      <td>7.457</td>\n      <td>1.680</td>\n      <td>5.060</td>\n      <td>1.241</td>\n      <td>2.794</td>\n      <td>1.590</td>\n      <td>0.045</td>\n      <td>0.803</td>\n    </tr>\n    <tr>\n      <th>Harrow</th>\n      <td>35881.481</td>\n      <td>121.035</td>\n      <td>8.201</td>\n      <td>1.644</td>\n      <td>4.527</td>\n      <td>1.416</td>\n      <td>3.055</td>\n      <td>1.541</td>\n      <td>0.030</td>\n      <td>0.927</td>\n    </tr>\n    <tr>\n      <th>Havering</th>\n      <td>53751.987</td>\n      <td>198.997</td>\n      <td>12.723</td>\n      <td>2.607</td>\n      <td>9.867</td>\n      <td>2.132</td>\n      <td>4.794</td>\n      <td>2.465</td>\n      <td>0.101</td>\n      <td>1.392</td>\n    </tr>\n    <tr>\n      <th>Hillingdon</th>\n      <td>77470.122</td>\n      <td>287.822</td>\n      <td>18.227</td>\n      <td>4.111</td>\n      <td>13.558</td>\n      <td>3.249</td>\n      <td>6.903</td>\n      <td>3.892</td>\n      <td>0.231</td>\n      <td>2.157</td>\n    </tr>\n    <tr>\n      <th>Hounslow</th>\n      <td>36450.684</td>\n      <td>125.129</td>\n      <td>8.003</td>\n      <td>1.705</td>\n      <td>5.242</td>\n      <td>1.326</td>\n      <td>3.002</td>\n      <td>1.597</td>\n      <td>0.037</td>\n      <td>0.865</td>\n    </tr>\n    <tr>\n      <th>Islington</th>\n      <td>21062.805</td>\n      <td>80.958</td>\n      <td>4.147</td>\n      <td>1.050</td>\n      <td>2.980</td>\n      <td>0.606</td>\n      <td>1.461</td>\n      <td>0.989</td>\n      <td>0.025</td>\n      <td>0.371</td>\n    </tr>\n    <tr>\n      <th>Kensington and Chelsea</th>\n      <td>20268.142</td>\n      <td>76.333</td>\n      <td>3.628</td>\n      <td>0.975</td>\n      <td>2.605</td>\n      <td>0.526</td>\n      <td>1.290</td>\n      <td>0.932</td>\n      <td>0.020</td>\n      <td>0.329</td>\n    </tr>\n    <tr>\n      <th>Kingston</th>\n      <td>24565.499</td>\n      <td>82.472</td>\n      <td>5.239</td>\n      <td>1.191</td>\n      <td>3.135</td>\n      <td>0.916</td>\n      <td>1.979</td>\n      <td>1.128</td>\n      <td>0.037</td>\n      <td>0.599</td>\n    </tr>\n    <tr>\n      <th>Lambeth</th>\n      <td>32292.937</td>\n      <td>115.019</td>\n      <td>6.822</td>\n      <td>1.545</td>\n      <td>4.620</td>\n      <td>1.102</td>\n      <td>2.464</td>\n      <td>1.438</td>\n      <td>0.033</td>\n      <td>0.700</td>\n    </tr>\n    <tr>\n      <th>Lewisham</th>\n      <td>40523.454</td>\n      <td>152.829</td>\n      <td>9.073</td>\n      <td>1.991</td>\n      <td>6.454</td>\n      <td>1.501</td>\n      <td>3.411</td>\n      <td>1.857</td>\n      <td>0.059</td>\n      <td>0.978</td>\n    </tr>\n    <tr>\n      <th>Merton</th>\n      <td>36740.383</td>\n      <td>123.448</td>\n      <td>8.304</td>\n      <td>1.794</td>\n      <td>4.835</td>\n      <td>1.444</td>\n      <td>3.129</td>\n      <td>1.690</td>\n      <td>0.026</td>\n      <td>0.932</td>\n    </tr>\n    <tr>\n      <th>Newham</th>\n      <td>13395.822</td>\n      <td>57.635</td>\n      <td>2.778</td>\n      <td>0.587</td>\n      <td>2.858</td>\n      <td>0.379</td>\n      <td>1.028</td>\n      <td>0.558</td>\n      <td>0.031</td>\n      <td>0.242</td>\n    </tr>\n    <tr>\n      <th>NonGLA</th>\n      <td>270938.270</td>\n      <td>842.382</td>\n      <td>65.220</td>\n      <td>13.689</td>\n      <td>38.068</td>\n      <td>12.385</td>\n      <td>24.603</td>\n      <td>12.905</td>\n      <td>0.476</td>\n      <td>8.231</td>\n    </tr>\n    <tr>\n      <th>Redbridge</th>\n      <td>39791.212</td>\n      <td>134.518</td>\n      <td>9.522</td>\n      <td>1.950</td>\n      <td>5.708</td>\n      <td>1.685</td>\n      <td>3.543</td>\n      <td>1.851</td>\n      <td>0.046</td>\n      <td>1.087</td>\n    </tr>\n    <tr>\n      <th>Richmond</th>\n      <td>35698.204</td>\n      <td>101.898</td>\n      <td>7.449</td>\n      <td>1.654</td>\n      <td>3.853</td>\n      <td>1.362</td>\n      <td>2.833</td>\n      <td>1.560</td>\n      <td>0.045</td>\n      <td>0.913</td>\n    </tr>\n    <tr>\n      <th>Southwark</th>\n      <td>42184.499</td>\n      <td>153.262</td>\n      <td>9.004</td>\n      <td>2.058</td>\n      <td>6.424</td>\n      <td>1.430</td>\n      <td>3.335</td>\n      <td>1.934</td>\n      <td>0.049</td>\n      <td>0.897</td>\n    </tr>\n    <tr>\n      <th>Sutton</th>\n      <td>32166.051</td>\n      <td>112.795</td>\n      <td>7.772</td>\n      <td>1.619</td>\n      <td>4.885</td>\n      <td>1.400</td>\n      <td>2.965</td>\n      <td>1.526</td>\n      <td>0.051</td>\n      <td>0.906</td>\n    </tr>\n    <tr>\n      <th>Tower Hamlets</th>\n      <td>23963.594</td>\n      <td>97.045</td>\n      <td>4.777</td>\n      <td>1.097</td>\n      <td>4.098</td>\n      <td>0.680</td>\n      <td>1.713</td>\n      <td>1.022</td>\n      <td>0.021</td>\n      <td>0.405</td>\n    </tr>\n    <tr>\n      <th>Waltham Forest</th>\n      <td>23454.670</td>\n      <td>86.020</td>\n      <td>5.451</td>\n      <td>1.161</td>\n      <td>3.362</td>\n      <td>0.932</td>\n      <td>2.053</td>\n      <td>1.097</td>\n      <td>0.022</td>\n      <td>0.595</td>\n    </tr>\n    <tr>\n      <th>Wandsworth</th>\n      <td>34322.814</td>\n      <td>117.453</td>\n      <td>7.112</td>\n      <td>1.612</td>\n      <td>4.458</td>\n      <td>1.164</td>\n      <td>2.632</td>\n      <td>1.522</td>\n      <td>0.033</td>\n      <td>0.776</td>\n    </tr>\n  </tbody>\n</table>\n</div>"
     },
     "execution_count": 109,
     "metadata": {},
     "output_type": "execute_result"
    }
   ],
   "source": [
    "#Aggregate data by borough and pollutant\n",
    "grouped_by = data.groupby(['BoroughName_ExactCut', 'Pollutant'])['TotalEmissions'].agg('sum')\n",
    "grouped_by.unstack()"
   ]
  },
  {
   "cell_type": "code",
   "execution_count": 110,
   "outputs": [
    {
     "data": {
      "text/plain": "<Figure size 432x288 with 1 Axes>",
      "image/png": "[encoded data removed]"
     },
     "metadata": {
      "needs_background": "light"
     },
     "output_type": "display_data"
    }
   ],
   "source": [
    "# plotting the original values\n",
    "x = data[\"Length (m)\"]\n",
    "y = data[\"TotalEmissions\"]\n",
    "pl.scatter(x, y)\n",
    "\n",
    "max_x = data[\"TotalEmissions\"].max()\n",
    "min_x = data[\"TotalEmissions\"].min()\n",
    "\n",
    "# range of values for plotting\n",
    "# the regression line\n",
    "x = np.arange(min_x, max_x, 1)\n",
    "\n",
    "# the substituted equation\n",
    "y =  36.0594 * x + 0.0513\n",
    "\n",
    "# plotting the regression line\n",
    "pl.plot(y, 'r')\n",
    "pl.show()"
   ],
   "metadata": {
    "collapsed": false,
    "pycharm": {
     "name": "#%%\n"
    }
   }
  },
  {
   "cell_type": "code",
   "execution_count": 111,
   "outputs": [
    {
     "data": {
      "text/plain": "   Length (m)  TotalEmissions  Pollutant_NOx  Pollutant_PM10_Brake  \\\n0        50.8          18.026              0                     0   \n1        28.6           0.024              0                     0   \n2         5.1           1.941              0                     0   \n3         3.8           1.431              0                     0   \n4         1.6           0.618              0                     0   \n\n   Pollutant_PM10_Exhaust  Pollutant_PM10_Resusp  Pollutant_PM10_Tyre  \\\n0                       0                      0                    0   \n1                       0                      0                    0   \n2                       0                      0                    0   \n3                       0                      0                    0   \n4                       0                      0                    0   \n\n   Pollutant_PM25_Brake  Pollutant_PM25_Exhaust  Pollutant_PM25_Resusp  ...  \\\n0                     0                       0                      0  ...   \n1                     0                       0                      0  ...   \n2                     0                       0                      0  ...   \n3                     0                       0                      0  ...   \n4                     0                       0                      0  ...   \n\n   BoroughName_ExactCut_Merton  BoroughName_ExactCut_Newham  \\\n0                            0                            0   \n1                            0                            0   \n2                            0                            0   \n3                            0                            0   \n4                            0                            0   \n\n   BoroughName_ExactCut_NonGLA  BoroughName_ExactCut_Redbridge  \\\n0                            1                               0   \n1                            1                               0   \n2                            1                               0   \n3                            1                               0   \n4                            1                               0   \n\n   BoroughName_ExactCut_Richmond  BoroughName_ExactCut_Southwark  \\\n0                              0                               0   \n1                              0                               0   \n2                              0                               0   \n3                              0                               0   \n4                              0                               0   \n\n   BoroughName_ExactCut_Sutton  BoroughName_ExactCut_Tower Hamlets  \\\n0                            0                                   0   \n1                            0                                   0   \n2                            0                                   0   \n3                            0                                   0   \n4                            0                                   0   \n\n   BoroughName_ExactCut_Waltham Forest  BoroughName_ExactCut_Wandsworth  \n0                                    0                                0  \n1                                    0                                0  \n2                                    0                                0  \n3                                    0                                0  \n4                                    0                                0  \n\n[5 rows x 44 columns]",
      "text/html": "<div>\n<style scoped>\n    .dataframe tbody tr th:only-of-type {\n        vertical-align: middle;\n    }\n\n    .dataframe tbody tr th {\n        vertical-align: top;\n    }\n\n    .dataframe thead th {\n        text-align: right;\n    }\n</style>\n<table border=\"1\" class=\"dataframe\">\n  <thead>\n    <tr style=\"text-align: right;\">\n      <th></th>\n      <th>Length (m)</th>\n      <th>TotalEmissions</th>\n      <th>Pollutant_NOx</th>\n      <th>Pollutant_PM10_Brake</th>\n      <th>Pollutant_PM10_Exhaust</th>\n      <th>Pollutant_PM10_Resusp</th>\n      <th>Pollutant_PM10_Tyre</th>\n      <th>Pollutant_PM25_Brake</th>\n      <th>Pollutant_PM25_Exhaust</th>\n      <th>Pollutant_PM25_Resusp</th>\n      <th>...</th>\n      <th>BoroughName_ExactCut_Merton</th>\n      <th>BoroughName_ExactCut_Newham</th>\n      <th>BoroughName_ExactCut_NonGLA</th>\n      <th>BoroughName_ExactCut_Redbridge</th>\n      <th>BoroughName_ExactCut_Richmond</th>\n      <th>BoroughName_ExactCut_Southwark</th>\n      <th>BoroughName_ExactCut_Sutton</th>\n      <th>BoroughName_ExactCut_Tower Hamlets</th>\n      <th>BoroughName_ExactCut_Waltham Forest</th>\n      <th>BoroughName_ExactCut_Wandsworth</th>\n    </tr>\n  </thead>\n  <tbody>\n    <tr>\n      <th>0</th>\n      <td>50.8</td>\n      <td>18.026</td>\n      <td>0</td>\n      <td>0</td>\n      <td>0</td>\n      <td>0</td>\n      <td>0</td>\n      <td>0</td>\n      <td>0</td>\n      <td>0</td>\n      <td>...</td>\n      <td>0</td>\n      <td>0</td>\n      <td>1</td>\n      <td>0</td>\n      <td>0</td>\n      <td>0</td>\n      <td>0</td>\n      <td>0</td>\n      <td>0</td>\n      <td>0</td>\n    </tr>\n    <tr>\n      <th>1</th>\n      <td>28.6</td>\n      <td>0.024</td>\n      <td>0</td>\n      <td>0</td>\n      <td>0</td>\n      <td>0</td>\n      <td>0</td>\n      <td>0</td>\n      <td>0</td>\n      <td>0</td>\n      <td>...</td>\n      <td>0</td>\n      <td>0</td>\n      <td>1</td>\n      <td>0</td>\n      <td>0</td>\n      <td>0</td>\n      <td>0</td>\n      <td>0</td>\n      <td>0</td>\n      <td>0</td>\n    </tr>\n    <tr>\n      <th>2</th>\n      <td>5.1</td>\n      <td>1.941</td>\n      <td>0</td>\n      <td>0</td>\n      <td>0</td>\n      <td>0</td>\n      <td>0</td>\n      <td>0</td>\n      <td>0</td>\n      <td>0</td>\n      <td>...</td>\n      <td>0</td>\n      <td>0</td>\n      <td>1</td>\n      <td>0</td>\n      <td>0</td>\n      <td>0</td>\n      <td>0</td>\n      <td>0</td>\n      <td>0</td>\n      <td>0</td>\n    </tr>\n    <tr>\n      <th>3</th>\n      <td>3.8</td>\n      <td>1.431</td>\n      <td>0</td>\n      <td>0</td>\n      <td>0</td>\n      <td>0</td>\n      <td>0</td>\n      <td>0</td>\n      <td>0</td>\n      <td>0</td>\n      <td>...</td>\n      <td>0</td>\n      <td>0</td>\n      <td>1</td>\n      <td>0</td>\n      <td>0</td>\n      <td>0</td>\n      <td>0</td>\n      <td>0</td>\n      <td>0</td>\n      <td>0</td>\n    </tr>\n    <tr>\n      <th>4</th>\n      <td>1.6</td>\n      <td>0.618</td>\n      <td>0</td>\n      <td>0</td>\n      <td>0</td>\n      <td>0</td>\n      <td>0</td>\n      <td>0</td>\n      <td>0</td>\n      <td>0</td>\n      <td>...</td>\n      <td>0</td>\n      <td>0</td>\n      <td>1</td>\n      <td>0</td>\n      <td>0</td>\n      <td>0</td>\n      <td>0</td>\n      <td>0</td>\n      <td>0</td>\n      <td>0</td>\n    </tr>\n  </tbody>\n</table>\n<p>5 rows × 44 columns</p>\n</div>"
     },
     "execution_count": 111,
     "metadata": {},
     "output_type": "execute_result"
    }
   ],
   "source": [
    "#Convert Categorical variables to dummy variables\n",
    "data = pd.get_dummies(data, columns=['Pollutant', 'BoroughName_ExactCut'], drop_first=True)\n",
    "data.head()"
   ],
   "metadata": {
    "collapsed": false,
    "pycharm": {
     "name": "#%%\n"
    }
   }
  },
  {
   "cell_type": "code",
   "execution_count": 112,
   "metadata": {
    "collapsed": false,
    "pycharm": {
     "name": "#%%\n"
    }
   },
   "outputs": [
    {
     "name": "stdout",
     "output_type": "stream",
     "text": [
      "                            OLS Regression Results                            \n",
      "==============================================================================\n",
      "Dep. Variable:         TotalEmissions   R-squared:                       0.283\n",
      "Model:                            OLS   Adj. R-squared:                  0.283\n",
      "Method:                 Least Squares   F-statistic:                     3359.\n",
      "Date:                Sat, 30 Jul 2022   Prob (F-statistic):               0.00\n",
      "Time:                        21:59:15   Log-Likelihood:            -1.6247e+06\n",
      "No. Observations:              366220   AIC:                         3.250e+06\n",
      "Df Residuals:                  366176   BIC:                         3.250e+06\n",
      "Df Model:                          43                                         \n",
      "Covariance Type:            nonrobust                                         \n",
      "===============================================================================================================\n",
      "                                                  coef    std err          t      P>|t|      [0.025      0.975]\n",
      "---------------------------------------------------------------------------------------------------------------\n",
      "const                                          36.0594      0.288    125.003      0.000      35.494      36.625\n",
      "Length (m)                                      0.0513      0.000    123.579      0.000       0.051       0.052\n",
      "Pollutant_NOx                                 -40.2882      0.151   -266.674      0.000     -40.584     -39.992\n",
      "Pollutant_PM10_Brake                          -40.4206      0.151   -267.550      0.000     -40.717     -40.125\n",
      "Pollutant_PM10_Exhaust                        -40.4276      0.151   -267.597      0.000     -40.724     -40.132\n",
      "Pollutant_PM10_Resusp                         -40.4237      0.151   -267.571      0.000     -40.720     -40.128\n",
      "Pollutant_PM10_Tyre                           -40.4281      0.151   -267.600      0.000     -40.724     -40.132\n",
      "Pollutant_PM25_Brake                          -40.4263      0.151   -267.588      0.000     -40.722     -40.130\n",
      "Pollutant_PM25_Exhaust                        -40.4277      0.151   -267.597      0.000     -40.724     -40.132\n",
      "Pollutant_PM25_Resusp                         -40.4296      0.151   -267.609      0.000     -40.726     -40.133\n",
      "Pollutant_PM25_Tyre                           -40.4286      0.151   -267.603      0.000     -40.725     -40.133\n",
      "BoroughName_ExactCut_Barnet                     0.4021      0.313      1.285      0.199      -0.211       1.015\n",
      "BoroughName_ExactCut_Bexley                     0.3095      0.350      0.885      0.376      -0.376       0.995\n",
      "BoroughName_ExactCut_Brent                      1.7193      0.325      5.284      0.000       1.082       2.357\n",
      "BoroughName_ExactCut_Bromley                   -0.1335      0.325     -0.411      0.681      -0.771       0.504\n",
      "BoroughName_ExactCut_Camden                     3.0856      0.341      9.046      0.000       2.417       3.754\n",
      "BoroughName_ExactCut_City                       2.6272      0.455      5.778      0.000       1.736       3.518\n",
      "BoroughName_ExactCut_City of Westminster        2.1890      0.319      6.864      0.000       1.564       2.814\n",
      "BoroughName_ExactCut_Croydon                    1.0789      0.328      3.294      0.001       0.437       1.721\n",
      "BoroughName_ExactCut_Ealing                     1.7836      0.318      5.607      0.000       1.160       2.407\n",
      "BoroughName_ExactCut_Enfield                    0.4059      0.319      1.273      0.203      -0.219       1.031\n",
      "BoroughName_ExactCut_Greenwich                  0.3501      0.356      0.983      0.326      -0.348       1.048\n",
      "BoroughName_ExactCut_Hackney                    1.9341      0.371      5.215      0.000       1.207       2.661\n",
      "BoroughName_ExactCut_Hammersmith and Fulham     2.2410      0.485      4.624      0.000       1.291       3.191\n",
      "BoroughName_ExactCut_Haringey                   1.9991      0.356      5.615      0.000       1.301       2.697\n",
      "BoroughName_ExactCut_Harrow                     0.9716      0.337      2.886      0.004       0.312       1.631\n",
      "BoroughName_ExactCut_Havering                   0.0573      0.319      0.180      0.857      -0.567       0.682\n",
      "BoroughName_ExactCut_Hillingdon                 2.1178      0.314      6.751      0.000       1.503       2.733\n",
      "BoroughName_ExactCut_Hounslow                   1.1767      0.338      3.481      0.000       0.514       1.839\n",
      "BoroughName_ExactCut_Islington                  0.7332      0.355      2.066      0.039       0.038       1.429\n",
      "BoroughName_ExactCut_Kensington and Chelsea     1.4854      0.378      3.931      0.000       0.745       2.226\n",
      "BoroughName_ExactCut_Kingston                   1.7640      0.385      4.585      0.000       1.010       2.518\n",
      "BoroughName_ExactCut_Lambeth                    1.5119      0.349      4.327      0.000       0.827       2.197\n",
      "BoroughName_ExactCut_Lewisham                   1.9602      0.345      5.687      0.000       1.285       2.636\n",
      "BoroughName_ExactCut_Merton                     2.0580      0.355      5.792      0.000       1.362       2.754\n",
      "BoroughName_ExactCut_Newham                     0.8188      0.414      1.980      0.048       0.008       1.629\n",
      "BoroughName_ExactCut_NonGLA                     0.2531      0.280      0.903      0.367      -0.296       0.803\n",
      "BoroughName_ExactCut_Redbridge                  1.1220      0.336      3.339      0.001       0.463       1.780\n",
      "BoroughName_ExactCut_Richmond                   1.7872      0.370      4.834      0.000       1.063       2.512\n",
      "BoroughName_ExactCut_Southwark                  1.2028      0.332      3.618      0.000       0.551       1.854\n",
      "BoroughName_ExactCut_Sutton                     2.0479      0.377      5.438      0.000       1.310       2.786\n",
      "BoroughName_ExactCut_Tower Hamlets              0.9259      0.360      2.569      0.010       0.219       1.632\n",
      "BoroughName_ExactCut_Waltham Forest             1.4385      0.379      3.791      0.000       0.695       2.182\n",
      "BoroughName_ExactCut_Wandsworth                 1.0894      0.350      3.117      0.002       0.404       1.774\n",
      "==============================================================================\n",
      "Omnibus:                   733614.785   Durbin-Watson:                   1.765\n",
      "Prob(Omnibus):                  0.000   Jarque-Bera (JB):       4730023256.895\n",
      "Skew:                          16.136   Prob(JB):                         0.00\n",
      "Kurtosis:                     558.822   Cond. No.                     4.90e+03\n",
      "==============================================================================\n",
      "\n",
      "Notes:\n",
      "[1] Standard Errors assume that the covariance matrix of the errors is correctly specified.\n",
      "[2] The condition number is large, 4.9e+03. This might indicate that there are\n",
      "strong multicollinearity or other numerical problems.\n"
     ]
    }
   ],
   "source": [
    "#Features\n",
    "X = data.loc[:, data.columns != 'TotalEmissions']\n",
    "#target\n",
    "y = data[\"TotalEmissions\"]\n",
    "\n",
    "#Adding constant column of ones, mandatory for sm.OLS model\n",
    "X_1 = sm.add_constant(X)\n",
    "#Fitting OLS model\n",
    "model = sm.OLS(y,X_1).fit()\n",
    "\n",
    "#How to interpret the summary: https://www.geeksforgeeks.org/interpreting-the-results-of-linear-regression-using-ols-summary/\n",
    "print(model.summary())"
   ]
  },
  {
   "cell_type": "code",
   "execution_count": 112,
   "metadata": {},
   "outputs": [],
   "source": []
  }
 ],
 "metadata": {
  "kernelspec": {
   "display_name": "Python 3.10.5 64-bit",
   "language": "python",
   "name": "python3"
  },
  "language_info": {
   "codemirror_mode": {
    "name": "ipython",
    "version": 3
   },
   "file_extension": ".py",
   "mimetype": "text/x-python",
   "name": "python",
   "nbconvert_exporter": "python",
   "pygments_lexer": "ipython3",
   "version": "3.10.5"
  },
  "vscode": {
   "interpreter": {
    "hash": "369f2c481f4da34e4445cda3fffd2e751bd1c4d706f27375911949ba6bb62e1c"
   }
  }
 },
 "nbformat": 4,
 "nbformat_minor": 0
}